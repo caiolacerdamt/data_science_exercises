{
 "cells": [
  {
   "cell_type": "code",
   "execution_count": 35,
   "metadata": {},
   "outputs": [],
   "source": [
    "import pandas as pd\n",
    "import numpy as np\n",
    "from sklearn.model_selection import train_test_split\n",
    "from sklearn.preprocessing import StandardScaler, OneHotEncoder, OrdinalEncoder\n",
    "from sklearn.decomposition import PCA\n",
    "from sklearn.svm import SVC\n",
    "from sklearn.pipeline import Pipeline, make_pipeline\n",
    "from sklearn.compose import ColumnTransformer\n",
    "from sklearn.datasets import make_classification\n",
    "\n",
    "import warnings\n",
    "warnings.filterwarnings('ignore')"
   ]
  },
  {
   "cell_type": "code",
   "execution_count": 36,
   "metadata": {},
   "outputs": [
    {
     "data": {
      "text/html": [
       "<div>\n",
       "<style scoped>\n",
       "    .dataframe tbody tr th:only-of-type {\n",
       "        vertical-align: middle;\n",
       "    }\n",
       "\n",
       "    .dataframe tbody tr th {\n",
       "        vertical-align: top;\n",
       "    }\n",
       "\n",
       "    .dataframe thead th {\n",
       "        text-align: right;\n",
       "    }\n",
       "</style>\n",
       "<table border=\"1\" class=\"dataframe\">\n",
       "  <thead>\n",
       "    <tr style=\"text-align: right;\">\n",
       "      <th></th>\n",
       "      <th>Idade</th>\n",
       "      <th>Renda_Anual</th>\n",
       "      <th>Score_Credito</th>\n",
       "      <th>Dividas</th>\n",
       "      <th>Pagamentos_Atraso</th>\n",
       "      <th>Uso_Cartao_Credito</th>\n",
       "      <th>Qtd_Contas_Banco</th>\n",
       "      <th>Transacoes_Mensais</th>\n",
       "      <th>Investimentos</th>\n",
       "      <th>Saldo_Conta</th>\n",
       "      <th>Tipo_Vip</th>\n",
       "      <th>Risco_Credito</th>\n",
       "    </tr>\n",
       "  </thead>\n",
       "  <tbody>\n",
       "    <tr>\n",
       "      <th>0</th>\n",
       "      <td>56</td>\n",
       "      <td>78053</td>\n",
       "      <td>454</td>\n",
       "      <td>30355</td>\n",
       "      <td>7</td>\n",
       "      <td>2192</td>\n",
       "      <td>4</td>\n",
       "      <td>35</td>\n",
       "      <td>24860</td>\n",
       "      <td>84899</td>\n",
       "      <td>Comum</td>\n",
       "      <td>0</td>\n",
       "    </tr>\n",
       "    <tr>\n",
       "      <th>1</th>\n",
       "      <td>69</td>\n",
       "      <td>41959</td>\n",
       "      <td>789</td>\n",
       "      <td>13116</td>\n",
       "      <td>3</td>\n",
       "      <td>1248</td>\n",
       "      <td>1</td>\n",
       "      <td>56</td>\n",
       "      <td>21195</td>\n",
       "      <td>15049</td>\n",
       "      <td>Comum</td>\n",
       "      <td>0</td>\n",
       "    </tr>\n",
       "    <tr>\n",
       "      <th>2</th>\n",
       "      <td>46</td>\n",
       "      <td>25530</td>\n",
       "      <td>685</td>\n",
       "      <td>25470</td>\n",
       "      <td>7</td>\n",
       "      <td>4033</td>\n",
       "      <td>1</td>\n",
       "      <td>297</td>\n",
       "      <td>11939</td>\n",
       "      <td>70717</td>\n",
       "      <td>Black</td>\n",
       "      <td>0</td>\n",
       "    </tr>\n",
       "    <tr>\n",
       "      <th>3</th>\n",
       "      <td>32</td>\n",
       "      <td>114856</td>\n",
       "      <td>403</td>\n",
       "      <td>42344</td>\n",
       "      <td>3</td>\n",
       "      <td>1997</td>\n",
       "      <td>2</td>\n",
       "      <td>275</td>\n",
       "      <td>25338</td>\n",
       "      <td>11082</td>\n",
       "      <td>Black</td>\n",
       "      <td>0</td>\n",
       "    </tr>\n",
       "    <tr>\n",
       "      <th>4</th>\n",
       "      <td>60</td>\n",
       "      <td>23748</td>\n",
       "      <td>692</td>\n",
       "      <td>42918</td>\n",
       "      <td>7</td>\n",
       "      <td>3687</td>\n",
       "      <td>4</td>\n",
       "      <td>25</td>\n",
       "      <td>21730</td>\n",
       "      <td>-4339</td>\n",
       "      <td>Black</td>\n",
       "      <td>0</td>\n",
       "    </tr>\n",
       "  </tbody>\n",
       "</table>\n",
       "</div>"
      ],
      "text/plain": [
       "   Idade  Renda_Anual  Score_Credito  Dividas  Pagamentos_Atraso  \\\n",
       "0     56        78053            454    30355                  7   \n",
       "1     69        41959            789    13116                  3   \n",
       "2     46        25530            685    25470                  7   \n",
       "3     32       114856            403    42344                  3   \n",
       "4     60        23748            692    42918                  7   \n",
       "\n",
       "   Uso_Cartao_Credito  Qtd_Contas_Banco  Transacoes_Mensais  Investimentos  \\\n",
       "0                2192                 4                  35          24860   \n",
       "1                1248                 1                  56          21195   \n",
       "2                4033                 1                 297          11939   \n",
       "3                1997                 2                 275          25338   \n",
       "4                3687                 4                  25          21730   \n",
       "\n",
       "   Saldo_Conta Tipo_Vip  Risco_Credito  \n",
       "0        84899    Comum              0  \n",
       "1        15049    Comum              0  \n",
       "2        70717    Black              0  \n",
       "3        11082    Black              0  \n",
       "4        -4339    Black              0  "
      ]
     },
     "execution_count": 36,
     "metadata": {},
     "output_type": "execute_result"
    }
   ],
   "source": [
    "np.random.seed(42)\n",
    "num_samples = 200\n",
    "\n",
    "data = {\n",
    "    \"Idade\": np.random.randint(18, 70, num_samples),\n",
    "    \"Renda_Anual\": np.random.randint(20000, 120000, num_samples),\n",
    "    \"Score_Credito\": np.random.randint(300, 850, num_samples),\n",
    "    \"Dividas\": np.random.randint(0, 50000, num_samples),\n",
    "    \"Pagamentos_Atraso\": np.random.randint(0, 10, num_samples),\n",
    "    \"Uso_Cartao_Credito\": np.random.randint(0, 10000, num_samples),\n",
    "    \"Qtd_Contas_Banco\": np.random.randint(1, 5, num_samples),\n",
    "    \"Transacoes_Mensais\": np.random.randint(10, 300, num_samples),\n",
    "    \"Investimentos\": np.random.randint(0, 50000, num_samples),\n",
    "    \"Saldo_Conta\": np.random.randint(-5000, 100000, num_samples),\n",
    "    \"Tipo_Vip\": np.random.choice(['Comum', 'Black', 'Platinum'], size=num_samples),\n",
    "    \"Risco_Credito\": np.random.choice([0, 1], size=num_samples) \n",
    "}\n",
    "\n",
    "df = pd.DataFrame(data)\n",
    "\n",
    "df.head()"
   ]
  },
  {
   "cell_type": "code",
   "execution_count": 37,
   "metadata": {},
   "outputs": [],
   "source": [
    "X = df.drop(columns=[\"Tipo_Vip\", \"Risco_Credito\"])\n",
    "y = df[\"Risco_Credito\"]"
   ]
  },
  {
   "cell_type": "code",
   "execution_count": 38,
   "metadata": {},
   "outputs": [],
   "source": [
    "X_train, X_test, y_train, y_test = train_test_split(X, y, test_size=0.2, random_state=42)"
   ]
  },
  {
   "cell_type": "markdown",
   "metadata": {},
   "source": [
    "### Usando Pipeline"
   ]
  },
  {
   "cell_type": "code",
   "execution_count": 39,
   "metadata": {},
   "outputs": [
    {
     "name": "stdout",
     "output_type": "stream",
     "text": [
      "Acurácia Pipeline: 0.475\n"
     ]
    }
   ],
   "source": [
    "pipeline = Pipeline([\n",
    "    ('scaler', StandardScaler()),  \n",
    "    ('pca', PCA(n_components=3)),   \n",
    "    ('svm', SVC(kernel='linear'))  \n",
    "])\n",
    "\n",
    "pipeline.fit(X_train, y_train)\n",
    "print(\"Acurácia Pipeline:\", pipeline.score(X_test, y_test))"
   ]
  },
  {
   "cell_type": "markdown",
   "metadata": {},
   "source": [
    "### Usando make_pipeline"
   ]
  },
  {
   "cell_type": "code",
   "execution_count": 40,
   "metadata": {},
   "outputs": [
    {
     "name": "stdout",
     "output_type": "stream",
     "text": [
      "Acurácia make_pipeline: 0.475\n"
     ]
    }
   ],
   "source": [
    "make_pipeline_model = make_pipeline(\n",
    "    StandardScaler(),  \n",
    "    PCA(n_components=3), \n",
    "    SVC(kernel='linear') \n",
    ")\n",
    "\n",
    "make_pipeline_model.fit(X_train, y_train)\n",
    "print(\"Acurácia make_pipeline:\", make_pipeline_model.score(X_test, y_test))"
   ]
  },
  {
   "cell_type": "markdown",
   "metadata": {},
   "source": [
    "### Usando ColumnTransformer"
   ]
  },
  {
   "cell_type": "code",
   "execution_count": 41,
   "metadata": {},
   "outputs": [],
   "source": [
    "X = df.drop(columns=[\"Risco_Credito\"])\n",
    "y = df[\"Risco_Credito\"]\n",
    "\n",
    "X_train, X_test, y_train, y_test = train_test_split(X, y, test_size=0.2, random_state=42)"
   ]
  },
  {
   "cell_type": "code",
   "execution_count": 42,
   "metadata": {},
   "outputs": [],
   "source": [
    "numeric_features = X_train.drop(columns=\"Tipo_Vip\", axis=1).columns\n",
    "categorical_features = [\"Tipo_Vip\"]"
   ]
  },
  {
   "cell_type": "code",
   "execution_count": null,
   "metadata": {},
   "outputs": [
    {
     "name": "stdout",
     "output_type": "stream",
     "text": [
      "Acurácia column_transformer: 0.475\n"
     ]
    }
   ],
   "source": [
    "preprocessor = ColumnTransformer(\n",
    "    transformers=[\n",
    "        ('num', StandardScaler(), numeric_features), \n",
    "        ('cat', OneHotEncoder(), categorical_features)\n",
    "    ]\n",
    ")\n",
    "\n",
    "column_transformer_pipeline = Pipeline([\n",
    "    ('preprocessor', preprocessor),  \n",
    "    ('pca', PCA(n_components=3)),  \n",
    "    ('svm', SVC(kernel='linear'))  \n",
    "])\n",
    "\n",
    "column_transformer_pipeline.fit(X_train, y_train)\n",
    "print(\"Acurácia column_transformer:\", column_transformer_pipeline.score(X_test, y_test))"
   ]
  }
 ],
 "metadata": {
  "kernelspec": {
   "display_name": "venv",
   "language": "python",
   "name": "python3"
  },
  "language_info": {
   "codemirror_mode": {
    "name": "ipython",
    "version": 3
   },
   "file_extension": ".py",
   "mimetype": "text/x-python",
   "name": "python",
   "nbconvert_exporter": "python",
   "pygments_lexer": "ipython3",
   "version": "3.13.1"
  }
 },
 "nbformat": 4,
 "nbformat_minor": 2
}
