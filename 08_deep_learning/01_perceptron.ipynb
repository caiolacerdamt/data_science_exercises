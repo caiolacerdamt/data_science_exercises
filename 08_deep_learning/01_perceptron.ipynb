{
 "cells": [
  {
   "cell_type": "code",
   "execution_count": 1,
   "metadata": {},
   "outputs": [],
   "source": [
    "import numpy as np"
   ]
  },
  {
   "cell_type": "code",
   "execution_count": 2,
   "metadata": {},
   "outputs": [],
   "source": [
    "def sigmoid(z):\n",
    "    return 1 / (1 + np.exp(-z))\n",
    "\n",
    "def relu(z):\n",
    "    return np.maximum(0, z)\n",
    "\n",
    "def tanh(z):\n",
    "    return np.tanh(z)"
   ]
  },
  {
   "cell_type": "code",
   "execution_count": 7,
   "metadata": {},
   "outputs": [],
   "source": [
    "class Perceptron:\n",
    "    def __init__(self, input_size, activation='sigmoid', learning_rate=0.1):\n",
    "        self.weights = np.random.randn(input_size)\n",
    "        self.bias = np.random.randn()\n",
    "        self.learning_rate = learning_rate\n",
    "\n",
    "        if activation == 'sigmoid':\n",
    "            self.activation = sigmoid\n",
    "        elif activation == 'relu':\n",
    "            self.activation = relu\n",
    "        elif activation == 'tanh':\n",
    "            self.activation = tanh\n",
    "        else:\n",
    "            raise ValueError('Ativação não suportada')\n",
    "        \n",
    "    def predict(self, X):\n",
    "        z = np.dot(X, self.weights) + self.bias\n",
    "        return self.activation(z)\n",
    "    \n",
    "    def train(self, X, y, epochs=100):\n",
    "        for epoch in range(epochs):\n",
    "            for xi, target in zip(X, y):\n",
    "                z = np.dot(xi, self.weights) + self.bias\n",
    "                output = self.activation(z)\n",
    "                error = target - output\n",
    "\n",
    "                self.weights += self.learning_rate * error * xi\n",
    "                self.bias += self.learning_rate * error"
   ]
  },
  {
   "cell_type": "code",
   "execution_count": 14,
   "metadata": {},
   "outputs": [
    {
     "name": "stdout",
     "output_type": "stream",
     "text": [
      "Entrada: [0 0], Saída: 0.536\n",
      "Entrada: [0 1], Saída: 0.500\n",
      "Entrada: [1 0], Saída: 0.458\n",
      "Entrada: [1 1], Saída: 0.418\n"
     ]
    }
   ],
   "source": [
    "if __name__ == '__main__':\n",
    "\n",
    "    X = np.array([[0, 0], [0, 1], [1, 0], [1, 1]])\n",
    "    y = np.array([0, 1, 1, 0])\n",
    "\n",
    "    modelo = Perceptron(input_size= 2, activation='tanh', learning_rate=0.1)\n",
    "    modelo.train(X, y, epochs=100)\n",
    "\n",
    "    for xi in X:\n",
    "        print(f\"Entrada: {xi}, Saída: {modelo.predict(xi):.3f}\")"
   ]
  }
 ],
 "metadata": {
  "kernelspec": {
   "display_name": "venv",
   "language": "python",
   "name": "python3"
  },
  "language_info": {
   "codemirror_mode": {
    "name": "ipython",
    "version": 3
   },
   "file_extension": ".py",
   "mimetype": "text/x-python",
   "name": "python",
   "nbconvert_exporter": "python",
   "pygments_lexer": "ipython3",
   "version": "3.13.1"
  }
 },
 "nbformat": 4,
 "nbformat_minor": 2
}
