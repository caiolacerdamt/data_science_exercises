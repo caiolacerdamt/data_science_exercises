{
 "cells": [
  {
   "cell_type": "markdown",
   "metadata": {},
   "source": [
    "### Teste T de Student"
   ]
  },
  {
   "cell_type": "code",
   "execution_count": 1,
   "metadata": {},
   "outputs": [],
   "source": [
    "import scipy.stats as stats"
   ]
  },
  {
   "cell_type": "code",
   "execution_count": 3,
   "metadata": {},
   "outputs": [
    {
     "name": "stdout",
     "output_type": "stream",
     "text": [
      "Estatistica t: 1.6164477182409747\n",
      "p_valor: 0.1446598502748035\n"
     ]
    }
   ],
   "source": [
    "grupo_a = [10, 12, 13, 9, 11]\n",
    "grupo_b = [8, 7, 12, 10, 9]\n",
    "\n",
    "t_stat, p_value = stats.ttest_ind(grupo_a, grupo_b)\n",
    "\n",
    "print(\"Estatistica t:\", t_stat)\n",
    "print(\"p_valor:\", p_value)"
   ]
  },
  {
   "cell_type": "markdown",
   "metadata": {},
   "source": [
    "### Insights\n",
    "\n",
    "- Não rejeitamos a hipótese nula, pois p_valor > 0.05"
   ]
  },
  {
   "cell_type": "markdown",
   "metadata": {},
   "source": [
    "### Teste ANOVA"
   ]
  },
  {
   "cell_type": "code",
   "execution_count": 5,
   "metadata": {},
   "outputs": [
    {
     "name": "stdout",
     "output_type": "stream",
     "text": [
      "Estatística F: 24.172323759791137\n",
      "p-valor: 0.000062\n"
     ]
    }
   ],
   "source": [
    "import scipy.stats as stats\n",
    "\n",
    "metodo1 = [70, 75, 80, 68, 74]\n",
    "metodo2 = [80, 82, 85, 88, 84]\n",
    "metodo3 = [65, 70, 68, 72, 67]\n",
    "\n",
    "f_stat, p_value = stats.f_oneway(metodo1, metodo2, metodo3)\n",
    "\n",
    "print(\"Estatística F:\", f_stat)\n",
    "print(f\"p-valor: {p_value:.6f}\")"
   ]
  },
  {
   "cell_type": "markdown",
   "metadata": {},
   "source": [
    "### Insights\n",
    "\n",
    "- Rejeitamos a hipótese nula, as médias dos grupos são significamentes diferentes.\n",
    "- A chance de obter um resultado tão extremo se não houvesse diferença real é muito baixa"
   ]
  },
  {
   "cell_type": "markdown",
   "metadata": {},
   "source": [
    "### Teste Qui-Quadrado"
   ]
  },
  {
   "cell_type": "code",
   "execution_count": 7,
   "metadata": {},
   "outputs": [
    {
     "name": "stdout",
     "output_type": "stream",
     "text": [
      "Estatística Qui-Quadrado: 15.041666666666668\n",
      "p-valor: 0.00010516355403363114\n",
      "Graus de liberdade: 1\n",
      "Frequências esperadas:\n",
      " [[20. 30.]\n",
      " [20. 30.]]\n"
     ]
    }
   ],
   "source": [
    "import numpy as np\n",
    "from scipy.stats import chi2_contingency\n",
    "\n",
    "tabela = np.array([[30, 20],\n",
    "                   [10, 40]])\n",
    "\n",
    "chi2, p_value, dof, expected = chi2_contingency(tabela)\n",
    "\n",
    "#chi2_contigency: Função que calcula o teste qui-quadrado para uma tabela de contigência\n",
    "#chi2: valor da estatística qui-quadrado\n",
    "#dof: graus de liberdade do teste\n",
    "#expected: tabela com as frequências esperadas\n",
    "\n",
    "print(\"Estatística Qui-Quadrado:\", chi2)\n",
    "print(\"p-valor:\", p_value)\n",
    "print(\"Graus de liberdade:\", dof)\n",
    "print(\"Frequências esperadas:\\n\", expected)"
   ]
  },
  {
   "cell_type": "markdown",
   "metadata": {},
   "source": [
    "### Insights\n",
    "\n",
    "- Rejeitamos a hipótese nula, porque p_value < 0,05"
   ]
  }
 ],
 "metadata": {
  "kernelspec": {
   "display_name": "exercises",
   "language": "python",
   "name": "python3"
  },
  "language_info": {
   "codemirror_mode": {
    "name": "ipython",
    "version": 3
   },
   "file_extension": ".py",
   "mimetype": "text/x-python",
   "name": "python",
   "nbconvert_exporter": "python",
   "pygments_lexer": "ipython3",
   "version": "3.13.1"
  }
 },
 "nbformat": 4,
 "nbformat_minor": 2
}
